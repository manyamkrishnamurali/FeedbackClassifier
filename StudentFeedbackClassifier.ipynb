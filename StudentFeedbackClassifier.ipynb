{
 "cells": [
  {
   "cell_type": "code",
   "execution_count": null,
   "metadata": {
    "id": "LS5L2AqxC5Of"
   },
   "outputs": [],
   "source": [
    "!pip install pandas scikit-learn transformers --quiet"
   ]
  },
  {
   "cell_type": "markdown",
   "metadata": {
    "id": "vyODOyI3D71M"
   },
   "source": []
  },
  {
   "cell_type": "code",
   "execution_count": null,
   "metadata": {
    "colab": {
     "base_uri": "https://localhost:8080/",
     "height": 106
    },
    "id": "noFgeQRTEHwe",
    "outputId": "a0464526-86c5-49c1-e44e-f3c8b5e7c369"
   },
   "outputs": [],
   "source": [
    "#uploading train and test csv files\n",
    "\n",
    "from google.colab import files\n",
    "uploaded = files.upload()"
   ]
  },
  {
   "cell_type": "code",
   "execution_count": null,
   "metadata": {
    "colab": {
     "base_uri": "https://localhost:8080/",
     "height": 206
    },
    "id": "gXdpFTl6EIeN",
    "outputId": "77e71672-12c1-4f15-d3ee-90216c5d5dfd"
   },
   "outputs": [],
   "source": [
    "#loading data\n",
    "\n",
    "import pandas as pd\n",
    "\n",
    "train_df = pd.read_csv(\"college_feedback_train.csv\")\n",
    "test_df = pd.read_csv(\"college_feedback_test.csv\")\n",
    "\n",
    "train_df.head()"
   ]
  },
  {
   "cell_type": "code",
   "execution_count": null,
   "metadata": {
    "id": "e_Mv_jIqEXJl"
   },
   "outputs": [],
   "source": [
    "# few-shot examples from each category\n",
    "examples = pd.concat([\n",
    "    train_df[train_df[\"category\"] == \"Academics\"].sample(1),\n",
    "    train_df[train_df[\"category\"] == \"Facilities\"].sample(1),\n",
    "    train_df[train_df[\"category\"] == \"Administration\"].sample(1)\n",
    "])\n"
   ]
  },
  {
   "cell_type": "markdown",
   "metadata": {
    "id": "-h50x2wBEq_D"
   },
   "source": []
  },
  {
   "cell_type": "code",
   "execution_count": null,
   "metadata": {
    "id": "wSzM9ik6EwKb"
   },
   "outputs": [],
   "source": [
    "# Construct few-shot example block\n",
    "few_shot_examples = \"\"\n",
    "for _, row in examples.iterrows():\n",
    "    few_shot_examples += f\"feedback: {row['feedback']}\\ncategory: {row['category']}\\n\"\n"
   ]
  },
  {
   "cell_type": "code",
   "execution_count": null,
   "metadata": {
    "id": "XAltA6muEwzz"
   },
   "outputs": [],
   "source": [
    "# Instruction prompt\n",
    "instruction = \"\"\"Classify the following student feedback based on the main topic. Choose only one of the categories:\n",
    "- Academics: if it refers to teaching, subjects, syllabus, grading, or classes.\n",
    "- Facilities: if it refers to infrastructure, internet, hostel, canteen, or campus services.\n",
    "- Administration: if it refers to rules, policies, admissions, exams, or certificate processes.\n",
    "\"\"\""
   ]
  },
  {
   "cell_type": "code",
   "execution_count": null,
   "metadata": {
    "colab": {
     "base_uri": "https://localhost:8080/",
     "height": 365,
     "referenced_widgets": [
      "4a8f202f982544aaa81b57cfa6689875",
      "3fa719b44c9e49a0b6570f0e67812937",
      "3efb4a1d4b7648abb8e8cd36063093ed",
      "24e58013ec2c4ed4b3772948715358a1",
      "80e7c4af91074aa2a644f99f64291667",
      "d5a69f200f8f4a7ea20a476490279b25",
      "4c63052de4b246e5b33d2d21669aeefb",
      "42b708a067c14551bedd4ce4fa2fad73",
      "a4ade989561a4ce3a3a8632bb7cfa13e",
      "65f82f40e3824e94aebbb897dfd018a2",
      "a42ba7f422134e5a9b5dbb0011c0fda9",
      "0df004fbc4f54d34b9463e3590274303",
      "799989fcbeba4569a7ead1a47d934d7d",
      "fffdc101a08e40c782a4ab89e1e5abbb",
      "9b0d729a143b4baba7c077164e8b6f6e",
      "64657f99369243c381b8338952741560",
      "db5f7635de1144289e3108169bd10202",
      "75891bf00a1b472b967534dbe08b91e2",
      "9f1365cf4ade4862b03cf27f7da09d7b",
      "53564faff9b74aca9c96488d05bd90f4",
      "262acb91feea4d26b5bdd2798637c641",
      "f6584c79e0c644869ab6c1a1391528c1",
      "90fa2e9755914890b3cd927bbbab115c",
      "b7e6deb7143344d790cd71bf65dc551d",
      "e71309e7fe53411a84d6d05192130346",
      "f2857935a4294d80bc45e0b0f7d83055",
      "0b1ad1bd5ccb4235a2e8ee03b507bb3d",
      "f42b1a1849774b1ca4f1c3b7244777e7",
      "91641a8095d24b9e885ff311a5bedb53",
      "5ff67e4106674a1b815002a4cdcb151d",
      "97a302d1e6844536888afc7b29ed80ce",
      "1d86ea1f147d4e99965c3ea81cfd8e19",
      "a36095938b274316962863bf0ce960c5",
      "bddf3f7c1def45d18362c57dd98a9ac3",
      "13d8fb0965774d62a347afcf1f13fc6e",
      "ad204fcf7dc74f4d80bdfeed26bb594b",
      "e225550945264488aeded0dee3f3dd64",
      "d14bd474d2a0454cbdfbad731a470c9a",
      "f2ff65e7eb3a42ffa641ba6b4c2c4632",
      "d83fc13049604320b6dabee2d6662a71",
      "fa5497204db544fa831032d1592aff72",
      "0222dad024c546ae8b78275245fb5dde",
      "8fce85e74f8141f8b6a271f40c51cd1a",
      "6c56c41b468b406aa4686a4af7d0368c",
      "cb4495acef024d3181ef0cd03d5cffc4",
      "08a37e41a36b4932bde4b02f7d5a85c8",
      "3e9f7c21f51244fb9bdd18d0f7bbe270",
      "f62bbb57e87341ed81fba67cdf476d01",
      "4c8cbd3523854805acc7473b99cb6501",
      "d6e059f3f43b476e9221fee83e826c89",
      "039336a123db4580ad899b2d1b002399",
      "eba7964f5e7942c0af6dd7a923dd6857",
      "5093bae0e964402b979d54dabc3a4966",
      "8536646bb960497daefe82f4c519bddd",
      "f0367059f50f4da6b47d4b5100bac3df",
      "297402fedba642d2994115d40de2490c",
      "b7bf617a8f2741829a67acbe9cd7f8ab",
      "fe60ddbe8d04470c8cc87f915cabb0ea",
      "7b7185c0d236480f9930181b9b3c20d3",
      "fd9d7c9da6af43ff98b39d4ac29ac6ed",
      "b8d16e943d384f37b73bfc36af2c2195",
      "3c6a759cdd0f483aa13d13acf3f9b52c",
      "d5520d9b062542f6a8d41e1f9ce539eb",
      "2c6b6e7b22af47afa3ed7bd4e6b4233f",
      "23b9eab5157542b79d92cb01fe700f4d",
      "cc512bdd9e2d47269101a86e17182888",
      "b84cf441c5014dceb01826f9a01d0c23",
      "fed24bf531294d48bdb00d216da6de2d",
      "ef654582eafe4a9fb78aa1b367cd5af9",
      "1b83deaa675e49f9afed038ec41c4997",
      "8f5039b2d043491c89fe325ec844801c",
      "07d579d60d0f40438677e5cd582d1819",
      "b880caaf2e1c4b0caa544d0ac4edb24e",
      "c10bc39e6be4429c8a8ae86ab247a7c7",
      "dd3342da4593471fa63152387b9d7b92",
      "0f10720e6b2246d1bc115fcf26cc667c",
      "4ee1a10aaa8f4115be17a85e448df4db"
     ]
    },
    "id": "fzvXSTGAEzXX",
    "outputId": "86a5e535-75c1-4eb5-b758-1390371334e8"
   },
   "outputs": [],
   "source": [
    "from transformers import AutoTokenizer, AutoModelForSeq2SeqLM\n",
    "\n",
    "model_name = \"google/flan-t5-base\"\n",
    "#model_name = \"google/flan-t5-large\" \n",
    "tokenizer = AutoTokenizer.from_pretrained(model_name)\n",
    "model = AutoModelForSeq2SeqLM.from_pretrained(model_name)"
   ]
  },
  {
   "cell_type": "code",
   "execution_count": null,
   "metadata": {
    "id": "DbUhvrCoE1tq"
   },
   "outputs": [],
   "source": [
    "def build_prompt(feedback):\n",
    "    return instruction + few_shot_examples + f\"feedback: {feedback}\\ncategory:\"\n",
    "\n",
    "prompts = [build_prompt(text) for text in test_df[\"feedback\"]]\n",
    "\n",
    "# Tokenize\n",
    "import torch\n",
    "\n",
    "inputs = tokenizer(prompts, return_tensors=\"pt\", padding=True, truncation=True).to(\"cpu\")\n"
   ]
  },
  {
   "cell_type": "code",
   "execution_count": null,
   "metadata": {
    "id": "sEV-g8b6E4US"
   },
   "outputs": [],
   "source": [
    "outputs = model.generate(\n",
    "    **inputs,\n",
    "    max_new_tokens=5,\n",
    "    do_sample=False\n",
    ")\n",
    "\n",
    "# Decode output\n",
    "preds = [tokenizer.decode(output, skip_special_tokens=True).replace('\\n', '').strip() for output in outputs]\n"
   ]
  },
  {
   "cell_type": "code",
   "execution_count": null,
   "metadata": {
    "colab": {
     "base_uri": "https://localhost:8080/"
    },
    "id": "sDSWwZ5-E6SL",
    "outputId": "47ccc3a4-a007-48aa-e6fa-e4d0872f09a5"
   },
   "outputs": [],
   "source": [
    "results = test_df.copy()\n",
    "results[\"predicted\"] = preds\n",
    "\n",
    "# Show first 10 predictions\n",
    "print(results[[\"feedback\", \"category\", \"predicted\"]].head(20).to_string(index=False))\n",
    "\n",
    "# Optional: Accuracy (if clean labels)\n",
    "accuracy = (results[\"category\"].str.lower() == results[\"predicted\"].str.lower()).mean()\n",
    "print(f\"Accuracy: {accuracy:.2f}\")\n"
   ]
  },
  {
   "cell_type": "code",
   "execution_count": null,
   "metadata": {
    "colab": {
     "base_uri": "https://localhost:8080/"
    },
    "id": "zpZ40IedFvO6",
    "outputId": "dbe54382-6944-45d1-c193-2e7701ad89c9"
   },
   "outputs": [],
   "source": [
    "from sklearn.metrics import classification_report\n",
    "\n",
    "print(classification_report(test_df[\"category\"], preds))\n"
   ]
  }
 ],
 "metadata": {
  "colab": {
   "provenance": []
  },
  "kernelspec": {
   "display_name": "Python 3",
   "name": "python3"
  },
  "language_info": {
   "name": "python"
  }
 },
 "nbformat": 4,
 "nbformat_minor": 0
}
